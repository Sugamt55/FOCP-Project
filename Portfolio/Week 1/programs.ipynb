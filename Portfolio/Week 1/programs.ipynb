{
 "cells": [
  {
   "cell_type": "code",
   "execution_count": 1,
   "metadata": {},
   "outputs": [
    {
     "name": "stdout",
     "output_type": "stream",
     "text": [
      "Hello World\n"
     ]
    }
   ],
   "source": [
    "#Q1\n",
    "\n",
    "print(\"Hello World\")\n",
    "\n"
   ]
  },
  {
   "cell_type": "code",
   "execution_count": 1,
   "metadata": {},
   "outputs": [
    {
     "name": "stdout",
     "output_type": "stream",
     "text": [
      "Hello, Sugam!\n"
     ]
    }
   ],
   "source": [
    "#Q2\n",
    "\n",
    "name = \"Sugam\"\n",
    "print(f\"Hello, {name}!\")"
   ]
  },
  {
   "cell_type": "code",
   "execution_count": 4,
   "metadata": {},
   "outputs": [
    {
     "name": "stdout",
     "output_type": "stream",
     "text": [
      "38.4 in fahrenheit is 101.12\n"
     ]
    }
   ],
   "source": [
    "temp = 38.4\n",
    "fahrenheit = temp * (9/5) + 32\n",
    "print(f\"{temp} in fahrenheit is {fahrenheit}\")\n",
    "\n"
   ]
  },
  {
   "cell_type": "code",
   "execution_count": 3,
   "metadata": {},
   "outputs": [
    {
     "name": "stdout",
     "output_type": "stream",
     "text": [
      "The batting average of  Geoffrey Boycott is 56.83802816901409\n"
     ]
    }
   ],
   "source": [
    "#Q4\n",
    "\n",
    "matches = 609 \n",
    "runs = 48426\n",
    "batted = 1014\n",
    "notout  = 162\n",
    "average = runs / (batted - notout)\n",
    "print(f\"The batting average of  Geoffrey Boycott is {average}\")"
   ]
  },
  {
   "cell_type": "code",
   "execution_count": 2,
   "metadata": {},
   "outputs": [
    {
     "name": "stdout",
     "output_type": "stream",
     "text": [
      "The total number of groups will be 11 with 36 leftover students.\n"
     ]
    }
   ],
   "source": [
    "#Q5\n",
    "\n",
    "size = 24\n",
    "\n",
    "student1 = 113\n",
    "student2 = 175\n",
    "student3 = 12\n",
    "\n",
    "first_group = student1 // size\n",
    "second_group = student2 // size\n",
    "third_group = student3 // size\n",
    "total_groups = first_group + second_group + third_group\n",
    "\n",
    "leftover1 = student1 % size\n",
    "leftover2 = student2 % size\n",
    "leftover3 = student3 % size\n",
    "leftover_total = leftover1 + leftover2 + leftover3\n",
    "\n",
    "print(f\"The total number of groups will be {total_groups} with {leftover_total} leftover students.\")\n"
   ]
  },
  {
   "cell_type": "code",
   "execution_count": 6,
   "metadata": {},
   "outputs": [
    {
     "name": "stdout",
     "output_type": "stream",
     "text": [
      "Welcome to Thapa Pizza House!\n",
      "=======================\n",
      "How many pizzas would you like to order? 2\n",
      "Do you want delivery for the pizzas? (Y/N) y\n",
      "Is today Tuesday? (Y/N) y\n",
      "Did you connect us via our app? (Y/N) y\n",
      "\n",
      "Order Summary:\n",
      "Number of Pizzas: 2\n",
      "Delivery: Yes\n",
      "Tuesday Discount: Yes\n",
      "App Discount: Yes\n"
     ]
    }
   ],
   "source": [
    "def get_positive_number(prompt):\n",
    "    while True:\n",
    "        try:\n",
    "            value = int(input(prompt))\n",
    "            if value >= 0:\n",
    "                return value\n",
    "            else:\n",
    "                print(\"Please enter a positive integer!\")\n",
    "        except ValueError:\n",
    "            print(\"Please enter a valid number!\")\n",
    "\n",
    "def get_yes_no_input(prompt):\n",
    "    while True:\n",
    "        answer = input(prompt).lower()\n",
    "        if answer in ['y', 'n']:\n",
    "            return answer\n",
    "        else:\n",
    "            print('Please answer \"Y\" or \"N\".')\n",
    "\n",
    "def calculate_pizza_price(num_pizzas, delivery_required, is_tuesday, used_app):\n",
    "    base_price_per_pizza = 10.00\n",
    "    delivery_charge = 2.50\n",
    "    discount_percentage = 0.25\n",
    "\n",
    "    total_price = num_pizzas * base_price_per_pizza\n",
    "\n",
    "    if delivery_required == 'y':\n",
    "        total_price += delivery_charge\n",
    "    if used_app == 'y':\n",
    "        total_price -= total_price * discount_percentage\n",
    "    if is_tuesday == 'y':\n",
    "        total_price *= 0.5\n",
    "\n",
    "    return round(total_price, 2)\n",
    "\n",
    "try:\n",
    "    print(\"Welcome to Thapa Pizza House!\\n=======================\")\n",
    "    num_pizzas = get_positive_number(\"How many pizzas would you like to order? \")\n",
    "    delivery_required = get_yes_no_input(\"Do you want delivery for the pizzas? (Y/N) \")\n",
    "    is_tuesday = get_yes_no_input(\"Is today Tuesday? (Y/N) \")\n",
    "    used_app = get_yes_no_input(\"Did you connect us via our app? (Y/N) \")\n",
    "\n",
    "    total_price = calculate_pizza_price(num_pizzas, delivery_required, is_tuesday, used_app)\n",
    "\n",
    "    print(\"\\nOrder Summary:\")\n",
    "    print(f\"Number of Pizzas: {num_pizzas}\")\n",
    "    print(f\"Delivery: {'Yes' if delivery_required == 'y' else 'No'}\")\n",
    "    print(f\"Tuesday Discount: {'Yes' if is_tuesday == 'y' else 'No'}\")\n",
    "    print(f\"App Discount: {'Yes' if used_app == 'y' else 'No'}\")\n",
    "\n",
    "except ValueError:\n",
    "    print(\"Invalid input. Please enter a valid value.\")\n",
    "\n"
   ]
  },
  {
   "cell_type": "code",
   "execution_count": null,
   "metadata": {},
   "outputs": [],
   "source": []
  },
  {
   "cell_type": "code",
   "execution_count": null,
   "metadata": {},
   "outputs": [],
   "source": []
  }
 ],
 "metadata": {
  "kernelspec": {
   "display_name": "Python 3 (ipykernel)",
   "language": "python",
   "name": "python3"
  },
  "language_info": {
   "codemirror_mode": {
    "name": "ipython",
    "version": 3
   },
   "file_extension": ".py",
   "mimetype": "text/x-python",
   "name": "python",
   "nbconvert_exporter": "python",
   "pygments_lexer": "ipython3",
   "version": "3.9.13"
  }
 },
 "nbformat": 4,
 "nbformat_minor": 2
}
